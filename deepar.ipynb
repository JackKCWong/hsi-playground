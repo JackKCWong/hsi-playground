{
 "cells": [
  {
   "cell_type": "code",
   "execution_count": 1,
   "id": "7d4e57d7-58ef-4456-b636-202f50770914",
   "metadata": {},
   "outputs": [
    {
     "name": "stderr",
     "output_type": "stream",
     "text": [
      "/Users/jhuang/Workspace/repos/hsi/venv/lib/python3.10/site-packages/gluonts/json.py:102: UserWarning: Using `json`-module for json-handling. Consider installing one of `orjson`, `ujson` to speed up serialization and deserialization.\n",
      "  warnings.warn(\n"
     ]
    }
   ],
   "source": [
    "from itertools import islice\n",
    "\n",
    "import matplotlib.pyplot as plt\n",
    "from gluonts.dataset.common import ListDataset\n",
    "from gluonts.evaluation import Evaluator\n",
    "from gluonts.evaluation.backtest import make_evaluation_predictions\n",
    "import pandas as pd\n",
    "import numpy as np"
   ]
  },
  {
   "cell_type": "code",
   "execution_count": 2,
   "id": "268a18e0-8bb7-45c3-b55f-7eef606bed86",
   "metadata": {},
   "outputs": [],
   "source": [
    "from gluonts.dataset.pandas import PandasDataset\n",
    "from gluonts.dataset.split import split\n",
    "from gluonts.torch import DeepAREstimator"
   ]
  },
  {
   "cell_type": "code",
   "execution_count": 151,
   "id": "8294ea48-f2d8-4ede-9eae-797a86ae7538",
   "metadata": {},
   "outputs": [],
   "source": [
    "df = pd.read_csv(\"./GBPUSD=X.csv\")\n",
    "df['Date'] = pd.to_datetime(df['Date'])\n",
    "df = df.set_index('Date')"
   ]
  },
  {
   "cell_type": "code",
   "execution_count": 152,
   "id": "2cb6706b-5682-4b98-b5e5-762be6a39361",
   "metadata": {},
   "outputs": [],
   "source": [
    "df.index = pd.to_datetime(df.index)\n",
    "\n",
    "# Create a date range from the minimum to maximum date in the index\n",
    "date_range = pd.date_range(start=df.index.min(), end=df.index.max())\n",
    "\n",
    "# Reindex the DataFrame with the date range to fill in missing dates with NaN\n",
    "df = df.reindex(date_range).sort_index()"
   ]
  },
  {
   "cell_type": "code",
   "execution_count": 161,
   "id": "1adfb928-328a-421c-ac66-c83cbfb2dd3e",
   "metadata": {},
   "outputs": [
    {
     "name": "stderr",
     "output_type": "stream",
     "text": [
      "GPU available: True (mps), used: True\n",
      "TPU available: False, using: 0 TPU cores\n",
      "IPU available: False, using: 0 IPUs\n",
      "HPU available: False, using: 0 HPUs\n",
      "/Users/jhuang/Workspace/repos/hsi/venv/lib/python3.10/site-packages/lightning/pytorch/trainer/configuration_validator.py:74: You defined a `validation_step` but have no `val_dataloader`. Skipping val loop.\n",
      "\n",
      "  | Name  | Type        | Params | In sizes                                                        | Out sizes  \n",
      "----------------------------------------------------------------------------------------------------------------------\n",
      "0 | model | DeepARModel | 25.9 K | [[1, 1], [1, 1], [1, 1097, 4], [1, 1097], [1, 1097], [1, 5, 4]] | [1, 100, 5]\n",
      "----------------------------------------------------------------------------------------------------------------------\n",
      "25.9 K    Trainable params\n",
      "0         Non-trainable params\n",
      "25.9 K    Total params\n",
      "0.104     Total estimated model params size (MB)\n"
     ]
    },
    {
     "data": {
      "application/vnd.jupyter.widget-view+json": {
       "model_id": "e924ee0871c34932a8ef2959c7e36004",
       "version_major": 2,
       "version_minor": 0
      },
      "text/plain": [
       "Training: |                                                                                             | 0/? …"
      ]
     },
     "metadata": {},
     "output_type": "display_data"
    },
    {
     "name": "stderr",
     "output_type": "stream",
     "text": [
      "Epoch 0, global step 50: 'train_loss' reached 0.09253 (best 0.09253), saving model to '/Users/jhuang/Workspace/repos/hsi/lightning_logs/version_29/checkpoints/epoch=0-step=50.ckpt' as top 1\n",
      "Epoch 1, global step 100: 'train_loss' reached -1.53498 (best -1.53498), saving model to '/Users/jhuang/Workspace/repos/hsi/lightning_logs/version_29/checkpoints/epoch=1-step=100.ckpt' as top 1\n",
      "Epoch 2, global step 150: 'train_loss' reached -1.96350 (best -1.96350), saving model to '/Users/jhuang/Workspace/repos/hsi/lightning_logs/version_29/checkpoints/epoch=2-step=150.ckpt' as top 1\n",
      "Epoch 3, global step 200: 'train_loss' reached -2.21060 (best -2.21060), saving model to '/Users/jhuang/Workspace/repos/hsi/lightning_logs/version_29/checkpoints/epoch=3-step=200.ckpt' as top 1\n",
      "Epoch 4, global step 250: 'train_loss' was not in top 1\n",
      "Epoch 5, global step 300: 'train_loss' was not in top 1\n",
      "Epoch 6, global step 350: 'train_loss' reached -2.23077 (best -2.23077), saving model to '/Users/jhuang/Workspace/repos/hsi/lightning_logs/version_29/checkpoints/epoch=6-step=350.ckpt' as top 1\n",
      "Epoch 7, global step 400: 'train_loss' was not in top 1\n",
      "Epoch 8, global step 450: 'train_loss' reached -2.27418 (best -2.27418), saving model to '/Users/jhuang/Workspace/repos/hsi/lightning_logs/version_29/checkpoints/epoch=8-step=450.ckpt' as top 1\n",
      "Epoch 9, global step 500: 'train_loss' reached -2.28836 (best -2.28836), saving model to '/Users/jhuang/Workspace/repos/hsi/lightning_logs/version_29/checkpoints/epoch=9-step=500.ckpt' as top 1\n",
      "Epoch 10, global step 550: 'train_loss' reached -2.36347 (best -2.36347), saving model to '/Users/jhuang/Workspace/repos/hsi/lightning_logs/version_29/checkpoints/epoch=10-step=550.ckpt' as top 1\n",
      "Epoch 11, global step 600: 'train_loss' was not in top 1\n",
      "Epoch 12, global step 650: 'train_loss' was not in top 1\n",
      "Epoch 13, global step 700: 'train_loss' was not in top 1\n",
      "Epoch 14, global step 750: 'train_loss' was not in top 1\n",
      "Epoch 15, global step 800: 'train_loss' was not in top 1\n",
      "Epoch 16, global step 850: 'train_loss' reached -2.39679 (best -2.39679), saving model to '/Users/jhuang/Workspace/repos/hsi/lightning_logs/version_29/checkpoints/epoch=16-step=850.ckpt' as top 1\n",
      "Epoch 17, global step 900: 'train_loss' was not in top 1\n",
      "Epoch 18, global step 950: 'train_loss' was not in top 1\n",
      "Epoch 19, global step 1000: 'train_loss' was not in top 1\n",
      "Epoch 20, global step 1050: 'train_loss' was not in top 1\n",
      "Epoch 21, global step 1100: 'train_loss' was not in top 1\n",
      "Epoch 22, global step 1150: 'train_loss' was not in top 1\n",
      "Epoch 23, global step 1200: 'train_loss' was not in top 1\n",
      "Epoch 24, global step 1250: 'train_loss' was not in top 1\n",
      "Epoch 25, global step 1300: 'train_loss' was not in top 1\n",
      "Epoch 26, global step 1350: 'train_loss' was not in top 1\n",
      "Epoch 27, global step 1400: 'train_loss' was not in top 1\n",
      "Epoch 28, global step 1450: 'train_loss' reached -2.43239 (best -2.43239), saving model to '/Users/jhuang/Workspace/repos/hsi/lightning_logs/version_29/checkpoints/epoch=28-step=1450.ckpt' as top 1\n",
      "Epoch 29, global step 1500: 'train_loss' was not in top 1\n",
      "Epoch 30, global step 1550: 'train_loss' was not in top 1\n",
      "Epoch 31, global step 1600: 'train_loss' reached -2.44310 (best -2.44310), saving model to '/Users/jhuang/Workspace/repos/hsi/lightning_logs/version_29/checkpoints/epoch=31-step=1600.ckpt' as top 1\n",
      "Epoch 32, global step 1650: 'train_loss' was not in top 1\n",
      "Epoch 33, global step 1700: 'train_loss' reached -2.44367 (best -2.44367), saving model to '/Users/jhuang/Workspace/repos/hsi/lightning_logs/version_29/checkpoints/epoch=33-step=1700.ckpt' as top 1\n",
      "Epoch 34, global step 1750: 'train_loss' reached -2.45491 (best -2.45491), saving model to '/Users/jhuang/Workspace/repos/hsi/lightning_logs/version_29/checkpoints/epoch=34-step=1750.ckpt' as top 1\n",
      "Epoch 35, global step 1800: 'train_loss' was not in top 1\n",
      "Epoch 36, global step 1850: 'train_loss' reached -2.46502 (best -2.46502), saving model to '/Users/jhuang/Workspace/repos/hsi/lightning_logs/version_29/checkpoints/epoch=36-step=1850.ckpt' as top 1\n",
      "Epoch 37, global step 1900: 'train_loss' was not in top 1\n",
      "Epoch 38, global step 1950: 'train_loss' reached -2.47154 (best -2.47154), saving model to '/Users/jhuang/Workspace/repos/hsi/lightning_logs/version_29/checkpoints/epoch=38-step=1950.ckpt' as top 1\n",
      "Epoch 39, global step 2000: 'train_loss' reached -2.53662 (best -2.53662), saving model to '/Users/jhuang/Workspace/repos/hsi/lightning_logs/version_29/checkpoints/epoch=39-step=2000.ckpt' as top 1\n",
      "Epoch 40, global step 2050: 'train_loss' was not in top 1\n",
      "Epoch 41, global step 2100: 'train_loss' was not in top 1\n",
      "Epoch 42, global step 2150: 'train_loss' was not in top 1\n",
      "Epoch 43, global step 2200: 'train_loss' was not in top 1\n",
      "Epoch 44, global step 2250: 'train_loss' was not in top 1\n",
      "Epoch 45, global step 2300: 'train_loss' was not in top 1\n",
      "Epoch 46, global step 2350: 'train_loss' reached -2.55147 (best -2.55147), saving model to '/Users/jhuang/Workspace/repos/hsi/lightning_logs/version_29/checkpoints/epoch=46-step=2350.ckpt' as top 1\n",
      "Epoch 47, global step 2400: 'train_loss' was not in top 1\n",
      "Epoch 48, global step 2450: 'train_loss' was not in top 1\n",
      "Epoch 49, global step 2500: 'train_loss' was not in top 1\n",
      "`Trainer.fit` stopped: `max_epochs=50` reached.\n"
     ]
    }
   ],
   "source": [
    "feat_dynamic_real = []\n",
    "# feat_dynamic_real=[\"Open\", \"High\", \"Low\", \"Adj Close\"]\n",
    "dataset = PandasDataset(df, target=\"Close\", freq=\"D\")\n",
    "                       #feat_dynamic_real=feat_dynamic_real)\n",
    "\n",
    "prediction_length=5\n",
    "# Split the data for training and testing\n",
    "training_data, test_gen = split(dataset, offset=-24)\n",
    "test_data = test_gen.generate_instances(prediction_length=prediction_length, windows=3)\n",
    "\n",
    "# Train the model and make predictions\n",
    "model = DeepAREstimator(\n",
    "    prediction_length=prediction_length, freq=\"D\", trainer_kwargs={\"max_epochs\": 50},\n",
    "    num_feat_dynamic_real=len(feat_dynamic_real)\n",
    ").train(training_data)"
   ]
  },
  {
   "cell_type": "code",
   "execution_count": 162,
   "id": "9ee4c182-e6f6-482f-a9e0-32b99741636f",
   "metadata": {},
   "outputs": [],
   "source": [
    "forecasts = list(model.predict(test_data.input))"
   ]
  },
  {
   "cell_type": "code",
   "execution_count": 163,
   "id": "79486d06-e87e-42f3-9722-0c0b6b9033ed",
   "metadata": {},
   "outputs": [
    {
     "data": {
      "text/plain": [
       "array([1.1816893, 1.1750482, 1.1700743, 1.1844523, 1.1921929],\n",
       "      dtype=float32)"
      ]
     },
     "execution_count": 163,
     "metadata": {},
     "output_type": "execute_result"
    }
   ],
   "source": [
    "forecasts[0].quantile(0.5)"
   ]
  },
  {
   "cell_type": "code",
   "execution_count": 164,
   "id": "f49a6de8-5de2-4a5d-a146-431e554c3cce",
   "metadata": {},
   "outputs": [
    {
     "data": {
      "image/png": "[encoded data removed]",
      "text/plain": [
       "<Figure size 2000x480 with 1 Axes>"
      ]
     },
     "metadata": {},
     "output_type": "display_data"
    }
   ],
   "source": [
    "plt.figure().set_figwidth(20)\n",
    "# Plot predictions\n",
    "plt.plot(df.Close, color=\"black\")\n",
    "for forecast in forecasts:\n",
    "  forecast.plot()\n",
    "plt.legend([\"True values\"], loc=\"upper left\", fontsize=\"xx-large\")\n",
    "plt.show()"
   ]
  },
  {
   "cell_type": "code",
   "execution_count": 185,
   "id": "00a5fdd0-c564-4e09-8729-c206ac2e49b3",
   "metadata": {},
   "outputs": [],
   "source": [
    "dfo = df[[\"Open\"]].dropna()"
   ]
  },
  {
   "cell_type": "code",
   "execution_count": 186,
   "id": "356cb6c9-d622-4ae9-bc6d-b3d5c2ad9b7c",
   "metadata": {},
   "outputs": [],
   "source": [
    "dfo = dfo.assign(delta = dfo.Open.dropna().diff())"
   ]
  },
  {
   "cell_type": "code",
   "execution_count": 188,
   "id": "b7be54c9-ce5e-417e-8e8a-829bbfdcfea3",
   "metadata": {},
   "outputs": [],
   "source": [
    "dfo = dfo.assign(updown = dfo.delta.apply(lambda x: \"down\" if x < 0 else \"up\"))"
   ]
  },
  {
   "cell_type": "code",
   "execution_count": 193,
   "id": "45c9140c-cd51-4772-8d32-dee37da0e045",
   "metadata": {},
   "outputs": [],
   "source": [
    "dfo = dfo.assign(turn = dfo.updown != dfo.updown.shift(1))"
   ]
  },
  {
   "cell_type": "code",
   "execution_count": 196,
   "id": "51d84b16-8874-49d2-af4a-53726c691bef",
   "metadata": {},
   "outputs": [],
   "source": [
    "turn = dfo[dfo.turn == True].turn.cumsum()"
   ]
  },
  {
   "cell_type": "code",
   "execution_count": 201,
   "id": "d93884e1-2a11-4ed4-8bba-5672d0a2c0c1",
   "metadata": {},
   "outputs": [],
   "source": [
    "turn = turn.reindex(dfo.index).ffill().astype(int)"
   ]
  },
  {
   "cell_type": "code",
   "execution_count": 202,
   "id": "488659bd-2a0f-49f1-bbec-4014de984de2",
   "metadata": {},
   "outputs": [],
   "source": [
    "dfo.turn = turn"
   ]
  },
  {
   "cell_type": "code",
   "execution_count": 212,
   "id": "814dfd42-9321-4c91-8456-4abb89afdee1",
   "metadata": {},
   "outputs": [
    {
     "data": {
      "text/html": [
       "<div>\n",
       "<style scoped>\n",
       "    .dataframe tbody tr th:only-of-type {\n",
       "        vertical-align: middle;\n",
       "    }\n",
       "\n",
       "    .dataframe tbody tr th {\n",
       "        vertical-align: top;\n",
       "    }\n",
       "\n",
       "    .dataframe thead th {\n",
       "        text-align: right;\n",
       "    }\n",
       "</style>\n",
       "<table border=\"1\" class=\"dataframe\">\n",
       "  <thead>\n",
       "    <tr style=\"text-align: right;\">\n",
       "      <th></th>\n",
       "      <th>Date</th>\n",
       "      <th>Open</th>\n",
       "      <th>delta</th>\n",
       "      <th>updown</th>\n",
       "      <th>turn</th>\n",
       "    </tr>\n",
       "  </thead>\n",
       "  <tbody>\n",
       "    <tr>\n",
       "      <th>0</th>\n",
       "      <td>2023-07-14</td>\n",
       "      <td>1.313146</td>\n",
       "      <td>NaN</td>\n",
       "      <td>up</td>\n",
       "      <td>1</td>\n",
       "    </tr>\n",
       "    <tr>\n",
       "      <th>1</th>\n",
       "      <td>2023-07-17</td>\n",
       "      <td>1.309123</td>\n",
       "      <td>-0.004023</td>\n",
       "      <td>down</td>\n",
       "      <td>2</td>\n",
       "    </tr>\n",
       "    <tr>\n",
       "      <th>2</th>\n",
       "      <td>2023-07-18</td>\n",
       "      <td>1.307087</td>\n",
       "      <td>-0.002036</td>\n",
       "      <td>down</td>\n",
       "      <td>2</td>\n",
       "    </tr>\n",
       "    <tr>\n",
       "      <th>3</th>\n",
       "      <td>2023-07-19</td>\n",
       "      <td>1.303509</td>\n",
       "      <td>-0.003578</td>\n",
       "      <td>down</td>\n",
       "      <td>2</td>\n",
       "    </tr>\n",
       "    <tr>\n",
       "      <th>4</th>\n",
       "      <td>2023-07-20</td>\n",
       "      <td>1.293979</td>\n",
       "      <td>-0.009530</td>\n",
       "      <td>down</td>\n",
       "      <td>2</td>\n",
       "    </tr>\n",
       "    <tr>\n",
       "      <th>...</th>\n",
       "      <td>...</td>\n",
       "      <td>...</td>\n",
       "      <td>...</td>\n",
       "      <td>...</td>\n",
       "      <td>...</td>\n",
       "    </tr>\n",
       "    <tr>\n",
       "      <th>256</th>\n",
       "      <td>2024-07-09</td>\n",
       "      <td>1.281470</td>\n",
       "      <td>0.000732</td>\n",
       "      <td>up</td>\n",
       "      <td>123</td>\n",
       "    </tr>\n",
       "    <tr>\n",
       "      <th>257</th>\n",
       "      <td>2024-07-10</td>\n",
       "      <td>1.278871</td>\n",
       "      <td>-0.002599</td>\n",
       "      <td>down</td>\n",
       "      <td>124</td>\n",
       "    </tr>\n",
       "    <tr>\n",
       "      <th>258</th>\n",
       "      <td>2024-07-11</td>\n",
       "      <td>1.285430</td>\n",
       "      <td>0.006559</td>\n",
       "      <td>up</td>\n",
       "      <td>125</td>\n",
       "    </tr>\n",
       "    <tr>\n",
       "      <th>259</th>\n",
       "      <td>2024-07-12</td>\n",
       "      <td>1.292524</td>\n",
       "      <td>0.007094</td>\n",
       "      <td>up</td>\n",
       "      <td>125</td>\n",
       "    </tr>\n",
       "    <tr>\n",
       "      <th>260</th>\n",
       "      <td>2024-07-14</td>\n",
       "      <td>1.298887</td>\n",
       "      <td>0.006363</td>\n",
       "      <td>up</td>\n",
       "      <td>125</td>\n",
       "    </tr>\n",
       "  </tbody>\n",
       "</table>\n",
       "<p>261 rows × 5 columns</p>\n",
       "</div>"
      ],
      "text/plain": [
       "          Date      Open     delta updown  turn\n",
       "0   2023-07-14  1.313146       NaN     up     1\n",
       "1   2023-07-17  1.309123 -0.004023   down     2\n",
       "2   2023-07-18  1.307087 -0.002036   down     2\n",
       "3   2023-07-19  1.303509 -0.003578   down     2\n",
       "4   2023-07-20  1.293979 -0.009530   down     2\n",
       "..         ...       ...       ...    ...   ...\n",
       "256 2024-07-09  1.281470  0.000732     up   123\n",
       "257 2024-07-10  1.278871 -0.002599   down   124\n",
       "258 2024-07-11  1.285430  0.006559     up   125\n",
       "259 2024-07-12  1.292524  0.007094     up   125\n",
       "260 2024-07-14  1.298887  0.006363     up   125\n",
       "\n",
       "[261 rows x 5 columns]"
      ]
     },
     "execution_count": 212,
     "metadata": {},
     "output_type": "execute_result"
    }
   ],
   "source": [
    "dfo.reset_index(names=\"Date\")"
   ]
  },
  {
   "cell_type": "code",
   "execution_count": 216,
   "id": "75e703bf-1001-4371-ba89-c65989e1d79e",
   "metadata": {},
   "outputs": [],
   "source": [
    "streaks = dfo.reset_index(names=\"Date\").groupby(['updown','turn']).agg({\n",
    "    'Open': 'count', 'Date': list\n",
    "})"
   ]
  },
  {
   "cell_type": "code",
   "execution_count": 231,
   "id": "e88f9d26-a44e-4eee-91e1-6aa5688747ea",
   "metadata": {},
   "outputs": [
    {
     "data": {
      "text/html": [
       "<div>\n",
       "<style scoped>\n",
       "    .dataframe tbody tr th:only-of-type {\n",
       "        vertical-align: middle;\n",
       "    }\n",
       "\n",
       "    .dataframe tbody tr th {\n",
       "        vertical-align: top;\n",
       "    }\n",
       "\n",
       "    .dataframe thead th {\n",
       "        text-align: right;\n",
       "    }\n",
       "</style>\n",
       "<table border=\"1\" class=\"dataframe\">\n",
       "  <thead>\n",
       "    <tr style=\"text-align: right;\">\n",
       "      <th></th>\n",
       "      <th></th>\n",
       "      <th>Open</th>\n",
       "      <th>Date</th>\n",
       "    </tr>\n",
       "    <tr>\n",
       "      <th>updown</th>\n",
       "      <th>turn</th>\n",
       "      <th></th>\n",
       "      <th></th>\n",
       "    </tr>\n",
       "  </thead>\n",
       "  <tbody>\n",
       "    <tr>\n",
       "      <th>down</th>\n",
       "      <th>2</th>\n",
       "      <td>7</td>\n",
       "      <td>[2023-07-17 00:00:00, 2023-07-18 00:00:00, 202...</td>\n",
       "    </tr>\n",
       "  </tbody>\n",
       "</table>\n",
       "</div>"
      ],
      "text/plain": [
       "             Open                                               Date\n",
       "updown turn                                                         \n",
       "down   2        7  [2023-07-17 00:00:00, 2023-07-18 00:00:00, 202..."
      ]
     },
     "execution_count": 231,
     "metadata": {},
     "output_type": "execute_result"
    }
   ],
   "source": [
    "streaks[streaks.Open == 7]"
   ]
  },
  {
   "cell_type": "code",
   "execution_count": 230,
   "id": "4291ac94-f06a-4a66-9907-bad59f5f5944",
   "metadata": {},
   "outputs": [
    {
     "data": {
      "text/plain": [
       "2023-07-17    1.309123\n",
       "2023-07-18    1.307087\n",
       "2023-07-19    1.303509\n",
       "2023-07-20    1.293979\n",
       "2023-07-21    1.286968\n",
       "2023-07-24    1.285182\n",
       "2023-07-25    1.281246\n",
       "Name: Open, dtype: float64"
      ]
     },
     "execution_count": 230,
     "metadata": {},
     "output_type": "execute_result"
    }
   ],
   "source": [
    "dfo.Open[dfo.index.isin(pd.to_datetime(streaks[streaks.Open == 7].Date.values[0]))]"
   ]
  },
  {
   "cell_type": "code",
   "execution_count": 224,
   "id": "60fc4c7e-0e42-4913-88ec-59cbad533db4",
   "metadata": {},
   "outputs": [
    {
     "data": {
      "text/plain": [
       "DatetimeIndex(['2023-07-14', '2023-07-17', '2023-07-18', '2023-07-19',\n",
       "               '2023-07-20', '2023-07-21', '2023-07-24', '2023-07-25',\n",
       "               '2023-07-26', '2023-07-27',\n",
       "               ...\n",
       "               '2024-07-01', '2024-07-02', '2024-07-03', '2024-07-04',\n",
       "               '2024-07-08', '2024-07-09', '2024-07-10', '2024-07-11',\n",
       "               '2024-07-12', '2024-07-14'],\n",
       "              dtype='datetime64[ns]', length=261, freq=None)"
      ]
     },
     "execution_count": 224,
     "metadata": {},
     "output_type": "execute_result"
    }
   ],
   "source": [
    "dfo.index"
   ]
  },
  {
   "cell_type": "code",
   "execution_count": null,
   "id": "f5578d07-babd-4eac-80dc-e32e83400205",
   "metadata": {},
   "outputs": [],
   "source": []
  }
 ],
 "metadata": {
  "kernelspec": {
   "display_name": "Python 3 (ipykernel)",
   "language": "python",
   "name": "python3"
  },
  "language_info": {
   "codemirror_mode": {
    "name": "ipython",
    "version": 3
   },
   "file_extension": ".py",
   "mimetype": "text/x-python",
   "name": "python",
   "nbconvert_exporter": "python",
   "pygments_lexer": "ipython3",
   "version": "3.10.0"
  }
 },
 "nbformat": 4,
 "nbformat_minor": 5
}
